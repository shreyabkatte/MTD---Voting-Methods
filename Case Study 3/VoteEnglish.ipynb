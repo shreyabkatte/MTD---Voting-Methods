{
 "cells": [
  {
   "cell_type": "markdown",
   "metadata": {},
   "source": [
    "##  **Voting methods**\n",
    "\n",
    "In this practical, you will experiment several voting methods on real world data, namely \n",
    "\n",
    "\n",
    "* either on the 2002 Irish General Election (https://en.wikipedia.org/wiki/Dublin_North_(D%C3%A1il_constituency)#2002_general_election), on Dublin North data\n",
    "* or on the 2017 French presidentail election, on the data provided by the city of Crolles and on the data provided in martinique (ecole dillon)  (see https://vote.imag.fr/about et https://zenodo.org/record/1199545/files/voter-autrement-online.pdf?download=1   and https://hal.univ-antilles.fr/hal-01965660/document pour plus de details)for more details)\n",
    "\n",
    "(you can choose on work either on the Irish general election, or on the french presidential election or on both)\n",
    "\n",
    "All the data files are on moodle\n",
    "\n",
    "**French Election, 11 candidates :  file SVT111.cvs** contains the preference order of the voters -  each voter gives 11 to his/her preferred candidate, 10 to the second, etc. The candidate(s) not approved by the voter receive rate 0. Each line corresponds toa voter\n",
    "\n",
    "**Irish Election, 12 candidates :  file Irish.cvs** contain the preference order of the voters -  each voter gives 12 to his/her preferred candidate, 11 to the second, etc.The candidate(s) not approved by the voter receive rate 0.  Notice that the first column of a line indicate the number of voters whixh expressed the ballot described by the line\n",
    "\n",
    "For questions 1, 2 and 3 you can use an excel/calc sheet  \n"
   ]
  },
  {
   "cell_type": "markdown",
   "metadata": {},
   "source": [
    "\n",
    "\n",
    "**Question 1: determine the winner according to Borda's rule**\n",
    "\n"
   ]
  },
  {
   "cell_type": "markdown",
   "metadata": {},
   "source": []
  },
  {
   "cell_type": "markdown",
   "metadata": {},
   "source": [
    "*Add your result to the google sheet*  https://docs.google.com/spreadsheets/d/1ZkSVoET8AtS-BCUYmYPo1VQAQsTCOf0Xjtz_Xxd5-L8/edit?usp=sharing"
   ]
  },
  {
   "cell_type": "markdown",
   "metadata": {},
   "source": [
    "**Question 2: : determine the winner according to Transferable voting  (IRV)**"
   ]
  },
  {
   "cell_type": "markdown",
   "metadata": {},
   "source": []
  },
  {
   "cell_type": "markdown",
   "metadata": {},
   "source": [
    "Add your result to the google sheet https://docs.google.com/spreadsheets/d/1ZkSVoET8AtS-BCUYmYPo1VQAQsTCOf0Xjtz_Xxd5-L8/edit?usp=sharing\n"
   ]
  },
  {
   "cell_type": "markdown",
   "metadata": {},
   "source": [
    "\n",
    "\n",
    "\n",
    "**Question 3: let us now explore condorcet coherent methods**\n",
    "\n",
    "Summary data are provided by files Dillon.cvs   and IrishCondorcet.cvs\n",
    "\n",
    "\n",
    "Determine whether there is a Condorcet winner and compute the order on the candidates given by Copeland's rule\n",
    "\n"
   ]
  },
  {
   "cell_type": "code",
   "execution_count": null,
   "metadata": {},
   "outputs": [],
   "source": []
  },
  {
   "cell_type": "markdown",
   "metadata": {},
   "source": [
    "*Add your result to the google sheet*  https://docs.google.com/spreadsheets/d/1ZkSVoET8AtS-BCUYmYPo1VQAQsTCOf0Xjtz_Xxd5-L8/edit?usp=sharing"
   ]
  },
  {
   "cell_type": "markdown",
   "metadata": {},
   "source": [
    "##  **e-voting**  (dead line : 30th of november)\n",
    "\n",
    "Implement a python toolbox which allows the computation, for any file  the format irish.cvs/SVT111.cvs of\n",
    "\n",
    "    \n",
    "    * The Condorcet winner (if any)\n",
    "    * Copeland's preference order\n",
    "    * Kramer simpson's preference order\n",
    "    * Borda  preference order\n",
    "    * STV  preference order\n",
    "    * The winner elected by the plurality rule\n",
    "    \n",
    "    \n",
    "\n",
    "Test your code on irish.cvs, SVT111.cvs  and SVT411.cvs \n",
    "\n",
    "**Your toolbox + demo will be provided under the form of a notebook, for november the 30th - on moodle**\n",
    "\n",
    "    "
   ]
  },
  {
   "cell_type": "markdown",
   "metadata": {},
   "source": [
    "### The Bordas Rule : "
   ]
  },
  {
   "cell_type": "code",
   "execution_count": 55,
   "metadata": {},
   "outputs": [
    {
     "data": {
      "text/plain": [
       "[('Trevor Sargent G.P. ', 261376.0),\n",
       " ('Sean Ryan Lab ', 223554.0),\n",
       " ('Jim Glennon F.F. ', 199348.0),\n",
       " ('Michael Kennedy F.F. ', 196552.0),\n",
       " ('G.V. Wright F.F. ', 186029.0),\n",
       " ('Clare Daly S.P. ', 171961.0),\n",
       " ('Nora Owen F.G. ', 146013.0),\n",
       " ('Cathal Boland F.G. ', 87491.0),\n",
       " ('Ciaran Goulding Non-P ', 61744.0),\n",
       " ('Mick Davis S.F. ', 56420.0),\n",
       " ('Eamonn Quinn Non-P ', 24170.0),\n",
       " ('David Henry Walshe C.C. Csp ', 13841.0)]"
      ]
     },
     "execution_count": 55,
     "metadata": {},
     "output_type": "execute_result"
    }
   ],
   "source": [
    "## Bordas Rule\n",
    "\n",
    "import pandas as pd\n",
    "import numpy as np\n",
    "\n",
    "df = pd.read_csv('Irish.csv', skiprows=range(4),encoding='latin1')\n",
    "\n",
    "dfnew = df.copy()\n",
    "\n",
    "for col in df.columns[1:]:\n",
    "    dfnew[col] = df['number of voters']*df[col]\n",
    "        \n",
    "dfnew\n",
    "df['number of voters'].sum()\n",
    "\n",
    "candidates = df.columns[1:]\n",
    "sumI = [dfnew[can].sum() for can in candidates]\n",
    "\n",
    "sumI = np.array(sumI)\n",
    "\n",
    "orderid = np.argsort(sumI)[::-1]\n",
    "\n",
    "np.sort(sumI)[::-1]\n",
    "\n",
    "[(candidates[i],sumI[i]) for i in orderid]\n"
   ]
  },
  {
   "cell_type": "markdown",
   "metadata": {},
   "source": [
    "### The Condorcet winner: "
   ]
  },
  {
   "cell_type": "code",
   "execution_count": 5,
   "metadata": {},
   "outputs": [
    {
     "name": "stdout",
     "output_type": "stream",
     "text": [
      "Trevor Sargent G.P. is the Condorcet winner\n"
     ]
    }
   ],
   "source": [
    "## The Condorcet winner (if any)\n",
    "\n",
    "import pandas as pd\n",
    "import numpy as np\n",
    "\n",
    "def append_value(dict_obj, key, value):\n",
    "    if key in dict_obj:\n",
    "        if not isinstance(dict_obj[key], list):\n",
    "            dict_obj[key] = [dict_obj[key]]\n",
    "        dict_obj[key].append(value)\n",
    "    else:\n",
    "        dict_obj[key] = [value]\n",
    "\n",
    "\n",
    "df = pd.read_csv('Irish.csv', skiprows=range(4),encoding='latin1')\n",
    "dfResult = df.copy()\n",
    "df = df.drop(\"number of voters\",1)\n",
    "\n",
    "finalData = {}\n",
    "\n",
    "for i in df.columns:\n",
    "    for j in dfResult.columns[1:]:\n",
    "        if i != j:\n",
    "            totalI = 0\n",
    "            totalJ = 0\n",
    "            #  comparing 2 columns\n",
    "            totalI = sum(np.where(dfResult[i] >= dfResult[j], dfResult['number of voters'], 0))\n",
    "            totalJ = sum(np.where(dfResult[i] <= dfResult[j], dfResult['number of voters'], 0))\n",
    "            if totalI > totalJ:\n",
    "                append_value(finalData, i, totalI)\n",
    "            elif totalI < totalJ:\n",
    "                append_value(finalData, j, totalJ) \n",
    "            else:\n",
    "                append_value(finalData, i, totalI)\n",
    "                append_value(finalData, j, totalJ)                \n",
    "    dfResult = dfResult.drop(i, 1)\n",
    "\n",
    "\n",
    "sorted_data = sorted(finalData, key=lambda k: len(finalData[k]), reverse=True)\n",
    "\n",
    "print(sorted_data[0] + \"is the Condorcet winner\")\n",
    "\n"
   ]
  },
  {
   "cell_type": "markdown",
   "metadata": {},
   "source": [
    "### The Kramer Simpsons Rule: "
   ]
  },
  {
   "cell_type": "code",
   "execution_count": 29,
   "metadata": {},
   "outputs": [
    {
     "name": "stdout",
     "output_type": "stream",
     "text": [
      "The order of the candidates elected in Kramer Simpson's rule are:\n",
      "KS(Trevor Sargent G.P. ) -  26641.0\n",
      "KS(Sean Ryan Lab ) -  29198.0\n",
      "KS(Michael Kennedy F.F. ) -  31830.0\n",
      "KS(Jim Glennon F.F. ) -  31933.0\n",
      "KS(Clare Daly S.P. ) -  32716.0\n",
      "KS(G.V. Wright F.F. ) -  33097.0\n",
      "KS(Nora Owen F.G. ) -  34965.0\n",
      "KS(Cathal Boland F.G. ) -  39576.0\n",
      "KS(Mick Davis S.F. ) -  40403.0\n",
      "KS(Ciaran Goulding Non-P ) -  40548.0\n",
      "KS(Eamonn Quinn Non-P ) -  42519.0\n",
      "KS(David Henry Walshe C.C. Csp ) -  43148.0\n"
     ]
    }
   ],
   "source": [
    "## KS rule\n",
    "\n",
    "import pandas as pd\n",
    "import numpy as np\n",
    "\n",
    "df = pd.read_csv('Irish.csv', skiprows=range(4),encoding='latin1')\n",
    "columns = df.columns[1:]\n",
    "\n",
    "finalData = {}\n",
    "\n",
    "for i in range(len(columns)):\n",
    "    finalScore = 0\n",
    "    for j in range(len(columns)):\n",
    "        if i != j:\n",
    "            totalJ = 0\n",
    "            # compare the ranks of each pairs and sum up the voters \n",
    "            totalJ = sum(np.where(df[columns[j]] >= df[columns[i]], df[\"number of voters\"], 0))\n",
    "            # store the highest voters             \n",
    "            if( finalScore < totalJ):\n",
    "                finalScore = totalJ\n",
    "        # decide the KS(winner) for each candidate \n",
    "        if(j == len(columns) -1) :\n",
    "            key = \"KS(\"+columns[i]+\")\"\n",
    "            finalData[key] = finalScore\n",
    "\n",
    "sort_orders = sorted(finalData.items(), key=lambda x: x[1])\n",
    "\n",
    "print(\"The order of the candidates elected in Kramer Simpson's rule are:\")\n",
    "\n",
    "for i in sort_orders:\n",
    "    print(i[0] + \" - \", i[1])"
   ]
  },
  {
   "cell_type": "code",
   "execution_count": 7,
   "metadata": {},
   "outputs": [],
   "source": [
    "import pandas as pd\n",
    "irishdf = pd.read_csv(\"Irish.csv\",encoding = 'ISO-8859-1',skiprows=4)[:-1]"
   ]
  },
  {
   "cell_type": "code",
   "execution_count": 8,
   "metadata": {},
   "outputs": [],
   "source": [
    "candidates = irishdf.columns[1:]"
   ]
  },
  {
   "cell_type": "markdown",
   "metadata": {},
   "source": [
    "### The winner elected by the plurality rule"
   ]
  },
  {
   "cell_type": "code",
   "execution_count": 11,
   "metadata": {},
   "outputs": [
    {
     "data": {
      "text/plain": [
       "{'Trevor Sargent G.P. ': 7294.0,\n",
       " 'Sean Ryan Lab ': 6359.0,\n",
       " 'Jim Glennon F.F. ': 5892.0,\n",
       " 'G.V. Wright F.F. ': 5658.0,\n",
       " 'Clare Daly S.P. ': 5501.0,\n",
       " 'Michael Kennedy F.F. ': 5253.0,\n",
       " 'Nora Owen F.G. ': 4012.0,\n",
       " 'Mick Davis S.F. ': 1350.0,\n",
       " 'Cathal Boland F.G. ': 1177.0,\n",
       " 'Ciaran Goulding Non-P ': 914.0,\n",
       " 'Eamonn Quinn Non-P ': 285.0,\n",
       " 'David Henry Walshe C.C. Csp ': 247.0}"
      ]
     },
     "execution_count": 11,
     "metadata": {},
     "output_type": "execute_result"
    }
   ],
   "source": [
    "dis = {}\n",
    "for can in candidates:\n",
    "    candf = irishdf[['number of voters',can]]\n",
    "    dis[can] = candf[candf[can] == 12]['number of voters'].sum()\n",
    "\n",
    "dict(sorted(dis.items(), key=lambda item: item[1],reverse=True))"
   ]
  },
  {
   "cell_type": "markdown",
   "metadata": {},
   "source": [
    "### Copeland's preference order"
   ]
  },
  {
   "cell_type": "code",
   "execution_count": 19,
   "metadata": {},
   "outputs": [
    {
     "name": "stdout",
     "output_type": "stream",
     "text": [
      "G.V. Wright F.F.  vs David Henry Walshe C.C. Csp  : 17114.0 to 1196.0\n",
      "G.V. Wright F.F.  vs Trevor Sargent G.P.  : 14527.0 to 21205.0\n",
      "G.V. Wright F.F.  vs Sean Ryan Lab  : 15142.0 to 18424.0\n",
      "G.V. Wright F.F.  vs Eamonn Quinn Non-P  : 17144.0 to 2141.0\n",
      "G.V. Wright F.F.  vs Nora Owen F.G.  : 16139.0 to 11876.0\n",
      "G.V. Wright F.F.  vs Michael Kennedy F.F.  : 10845.0 to 12112.0\n",
      "G.V. Wright F.F.  vs Ciaran Goulding Non-P  : 16971.0 to 5526.0\n",
      "G.V. Wright F.F.  vs Jim Glennon F.F.  : 11609.0 to 12426.0\n",
      "G.V. Wright F.F.  vs Mick Davis S.F.  : 16777.0 to 4555.0\n",
      "G.V. Wright F.F.  vs Clare Daly S.P.  : 15685.0 to 14205.0\n",
      "G.V. Wright F.F.  vs Cathal Boland F.G.  : 16822.0 to 7744.0\n",
      "David Henry Walshe C.C. Csp  vs Trevor Sargent G.P.  : 794.0 to 24272.0\n",
      "David Henry Walshe C.C. Csp  vs Sean Ryan Lab  : 1031.0 to 20772.0\n",
      "David Henry Walshe C.C. Csp  vs Eamonn Quinn Non-P  : 1272.0 to 2317.0\n",
      "David Henry Walshe C.C. Csp  vs Nora Owen F.G.  : 1179.0 to 13613.0\n",
      "David Henry Walshe C.C. Csp  vs Michael Kennedy F.F.  : 1179.0 to 18017.0\n",
      "David Henry Walshe C.C. Csp  vs Ciaran Goulding Non-P  : 1182.0 to 5908.0\n",
      "David Henry Walshe C.C. Csp  vs Jim Glennon F.F.  : 1179.0 to 18345.0\n",
      "David Henry Walshe C.C. Csp  vs Mick Davis S.F.  : 1229.0 to 5307.0\n",
      "David Henry Walshe C.C. Csp  vs Clare Daly S.P.  : 977.0 to 15859.0\n",
      "David Henry Walshe C.C. Csp  vs Cathal Boland F.G.  : 1252.0 to 8436.0\n",
      "Trevor Sargent G.P.  vs Sean Ryan Lab  : 17301.0 to 14744.0\n",
      "Trevor Sargent G.P.  vs Eamonn Quinn Non-P  : 24121.0 to 1423.0\n",
      "Trevor Sargent G.P.  vs Nora Owen F.G.  : 20135.0 to 8977.0\n",
      "Trevor Sargent G.P.  vs Michael Kennedy F.F.  : 20778.0 to 15484.0\n",
      "Trevor Sargent G.P.  vs Ciaran Goulding Non-P  : 23385.0 to 3394.0\n",
      "Trevor Sargent G.P.  vs Jim Glennon F.F.  : 20435.0 to 15393.0\n",
      "Trevor Sargent G.P.  vs Mick Davis S.F.  : 23300.0 to 3952.0\n",
      "Trevor Sargent G.P.  vs Clare Daly S.P.  : 19794.0 to 11226.0\n",
      "Trevor Sargent G.P.  vs Cathal Boland F.G.  : 22223.0 to 5386.0\n",
      "Sean Ryan Lab  vs Eamonn Quinn Non-P  : 20657.0 to 1774.0\n",
      "Sean Ryan Lab  vs Nora Owen F.G.  : 17007.0 to 9747.0\n",
      "Sean Ryan Lab  vs Michael Kennedy F.F.  : 17853.0 to 15948.0\n",
      "Sean Ryan Lab  vs Ciaran Goulding Non-P  : 20008.0 to 4073.0\n",
      "Sean Ryan Lab  vs Jim Glennon F.F.  : 17619.0 to 16230.0\n",
      "Sean Ryan Lab  vs Mick Davis S.F.  : 20044.0 to 4181.0\n",
      "Sean Ryan Lab  vs Clare Daly S.P.  : 16823.0 to 11669.0\n",
      "Sean Ryan Lab  vs Cathal Boland F.G.  : 18727.0 to 5825.0\n",
      "Eamonn Quinn Non-P  vs Nora Owen F.G.  : 2175.0 to 13558.0\n",
      "Eamonn Quinn Non-P  vs Michael Kennedy F.F.  : 2123.0 to 18040.0\n",
      "Eamonn Quinn Non-P  vs Ciaran Goulding Non-P  : 1919.0 to 5754.0\n",
      "Eamonn Quinn Non-P  vs Jim Glennon F.F.  : 2046.0 to 18338.0\n",
      "Eamonn Quinn Non-P  vs Mick Davis S.F.  : 2066.0 to 5251.0\n",
      "Eamonn Quinn Non-P  vs Clare Daly S.P.  : 1519.0 to 15745.0\n",
      "Eamonn Quinn Non-P  vs Cathal Boland F.G.  : 2252.0 to 8398.0\n",
      "Nora Owen F.G.  vs Michael Kennedy F.F.  : 12076.0 to 17070.0\n",
      "Nora Owen F.G.  vs Ciaran Goulding Non-P  : 13088.0 to 5170.0\n",
      "Nora Owen F.G.  vs Jim Glennon F.F.  : 11931.0 to 17420.0\n",
      "Nora Owen F.G.  vs Mick Davis S.F.  : 13449.0 to 5055.0\n",
      "Nora Owen F.G.  vs Clare Daly S.P.  : 11708.0 to 14267.0\n",
      "Nora Owen F.G.  vs Cathal Boland F.G.  : 12291.0 to 4366.0\n",
      "Michael Kennedy F.F.  vs Ciaran Goulding Non-P  : 17816.0 to 5452.0\n",
      "Michael Kennedy F.F.  vs Jim Glennon F.F.  : 12394.0 to 12009.0\n",
      "Michael Kennedy F.F.  vs Mick Davis S.F.  : 17604.0 to 4488.0\n",
      "Michael Kennedy F.F.  vs Clare Daly S.P.  : 16252.0 to 13781.0\n",
      "Michael Kennedy F.F.  vs Cathal Boland F.G.  : 17662.0 to 7696.0\n",
      "Ciaran Goulding Non-P  vs Jim Glennon F.F.  : 5315.0 to 18057.0\n",
      "Ciaran Goulding Non-P  vs Mick Davis S.F.  : 5452.0 to 5081.0\n",
      "Ciaran Goulding Non-P  vs Clare Daly S.P.  : 4032.0 to 15202.0\n",
      "Ciaran Goulding Non-P  vs Cathal Boland F.G.  : 5613.0 to 8173.0\n",
      "Jim Glennon F.F.  vs Mick Davis S.F.  : 17986.0 to 4480.0\n",
      "Jim Glennon F.F.  vs Clare Daly S.P.  : 16872.0 to 13945.0\n",
      "Jim Glennon F.F.  vs Cathal Boland F.G.  : 17806.0 to 7302.0\n",
      "Mick Davis S.F.  vs Clare Daly S.P.  : 3539.0 to 14935.0\n",
      "Mick Davis S.F.  vs Cathal Boland F.G.  : 5158.0 to 8316.0\n",
      "Clare Daly S.P.  vs Cathal Boland F.G.  : 15176.0 to 7366.0\n"
     ]
    }
   ],
   "source": [
    "Cope_score = {}\n",
    "for can in candidates:\n",
    "    Cope_score[can] = 0\n",
    "for i in range(len(candidates)):\n",
    "    for j in range(i+1,len(candidates)):\n",
    "        cansdf= irishdf[['number of voters',candidates[i],candidates[j]]]\n",
    "        cani = cansdf[cansdf[candidates[i]]>cansdf[candidates[j]]]['number of voters'].sum()\n",
    "        canj = cansdf[cansdf[candidates[j]]>cansdf[candidates[i]]]['number of voters'].sum()\n",
    "        print(candidates[i],'vs',candidates[j],':',cani,'to',canj)\n",
    "        if cani > canj:\n",
    "            Cope_score[candidates[i]] +=1\n",
    "        elif cani < canj:\n",
    "            Cope_score[candidates[j]] +=1\n",
    "        else:\n",
    "            Cope_score[candidates[i]] +=0.5\n",
    "            Cope_score[candidates[j]] +=0.5"
   ]
  },
  {
   "cell_type": "code",
   "execution_count": 32,
   "metadata": {},
   "outputs": [
    {
     "name": "stdout",
     "output_type": "stream",
     "text": [
      "The Coplants's preference order : \n",
      "Trevor Sargent G.P.  -  11\n",
      "Sean Ryan Lab  -  10\n",
      "Michael Kennedy F.F.  -  9\n",
      "Jim Glennon F.F.  -  8\n",
      "G.V. Wright F.F.  -  7\n",
      "Clare Daly S.P.  -  6\n",
      "Nora Owen F.G.  -  5\n",
      "Cathal Boland F.G.  -  4\n",
      "Ciaran Goulding Non-P  -  3\n",
      "Mick Davis S.F.  -  2\n",
      "Eamonn Quinn Non-P  -  1\n",
      "David Henry Walshe C.C. Csp  -  0\n"
     ]
    }
   ],
   "source": [
    "print(\"The Coplants's preference order : \")\n",
    "\n",
    "sorted_data = sorted(Cope_score.items(), key=lambda item: item[1],reverse=True)\n",
    "\n",
    "for i in sorted_data:\n",
    "    print(i[0] + \" - \", i[1])"
   ]
  },
  {
   "cell_type": "code",
   "execution_count": null,
   "metadata": {},
   "outputs": [],
   "source": []
  }
 ],
 "metadata": {
  "kernelspec": {
   "display_name": "Python 3",
   "language": "python",
   "name": "python3"
  },
  "language_info": {
   "codemirror_mode": {
    "name": "ipython",
    "version": 3
   },
   "file_extension": ".py",
   "mimetype": "text/x-python",
   "name": "python",
   "nbconvert_exporter": "python",
   "pygments_lexer": "ipython3",
   "version": "3.8.3"
  }
 },
 "nbformat": 4,
 "nbformat_minor": 4
}
