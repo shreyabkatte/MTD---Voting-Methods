{
 "cells": [
  {
   "cell_type": "markdown",
   "metadata": {},
   "source": [
    "##  **Voting methods**\n",
    "\n",
    "In this practical, you will experiment several voting methods on real world data, namely \n",
    "\n",
    "\n",
    "* either on the 2002 Irish General Election (https://en.wikipedia.org/wiki/Dublin_North_(D%C3%A1il_constituency)#2002_general_election), on Dublin North data\n",
    "* or on the 2017 French presidentail election, on the data provided by the city of Crolles and on the data provided in martinique (ecole dillon)  (see https://vote.imag.fr/about et https://zenodo.org/record/1199545/files/voter-autrement-online.pdf?download=1   and https://hal.univ-antilles.fr/hal-01965660/document pour plus de details)for more details)\n",
    "\n",
    "(you can choose on work either on the Irish general election, or on the french presidential election or on both)\n",
    "\n",
    "All the data files are on moodle\n",
    "\n",
    "**French Election, 11 candidates :  file SVT111.cvs** contains the preference order of the voters -  each voter gives 11 to his/her preferred candidate, 10 to the second, etc. The candidate(s) not approved by the voter receive rate 0. Each line corresponds toa voter\n",
    "\n",
    "**Irish Election, 12 candidates :  file Irish.cvs** contain the preference order of the voters -  each voter gives 12 to his/her preferred candidate, 11 to the second, etc.The candidate(s) not approved by the voter receive rate 0.  Notice that the first column of a line indicate the number of voters whixh expressed the ballot described by the line\n",
    "\n",
    "For questions 1, 2 and 3 you can use an excel/calc sheet  \n"
   ]
  },
  {
   "cell_type": "markdown",
   "metadata": {},
   "source": [
    "\n",
    "\n",
    "**Question 1: determine the winner according to Borda's rule**\n",
    "\n"
   ]
  },
  {
   "cell_type": "markdown",
   "metadata": {},
   "source": []
  },
  {
   "cell_type": "markdown",
   "metadata": {},
   "source": [
    "*Add your result to the google sheet*  https://docs.google.com/spreadsheets/d/1ZkSVoET8AtS-BCUYmYPo1VQAQsTCOf0Xjtz_Xxd5-L8/edit?usp=sharing"
   ]
  },
  {
   "cell_type": "markdown",
   "metadata": {},
   "source": [
    "**Question 2: : determine the winner according to Transferable voting  (IRV)**"
   ]
  },
  {
   "cell_type": "markdown",
   "metadata": {},
   "source": []
  },
  {
   "cell_type": "markdown",
   "metadata": {},
   "source": [
    "Add your result to the google sheet https://docs.google.com/spreadsheets/d/1ZkSVoET8AtS-BCUYmYPo1VQAQsTCOf0Xjtz_Xxd5-L8/edit?usp=sharing\n"
   ]
  },
  {
   "cell_type": "markdown",
   "metadata": {},
   "source": [
    "\n",
    "\n",
    "\n",
    "**Question 3: let us now explore condorcet coherent methods**\n",
    "\n",
    "Summary data are provided by files Dillon.cvs   and IrishCondorcet.cvs\n",
    "\n",
    "\n",
    "Determine whether there is a Condorcet winner and compute the order on the candidates given by Copeland's rule\n",
    "\n"
   ]
  },
  {
   "cell_type": "code",
   "execution_count": null,
   "metadata": {},
   "outputs": [],
   "source": []
  },
  {
   "cell_type": "markdown",
   "metadata": {},
   "source": [
    "*Add your result to the google sheet*  https://docs.google.com/spreadsheets/d/1ZkSVoET8AtS-BCUYmYPo1VQAQsTCOf0Xjtz_Xxd5-L8/edit?usp=sharing"
   ]
  },
  {
   "cell_type": "markdown",
   "metadata": {},
   "source": [
    "##  **e-voting**  (dead line : 30th of november)\n",
    "\n",
    "Implement a python toolbox which allows the computation, for any file  the format irish.cvs/SVT111.cvs of\n",
    "\n",
    "    \n",
    "    * The Condorcet winner (if any)\n",
    "    * Copeland's preference order\n",
    "    * Kramer simpson's preference order\n",
    "    * Borda  preference order\n",
    "    * STV  preference order\n",
    "    * The winner elected by the plurality rule\n",
    "    \n",
    "    \n",
    "\n",
    "Test your code on irish.cvs, SVT111.cvs  and SVT411.cvs \n",
    "\n",
    "**Your toolbox + demo will be provided under the form of a notebook, for november the 30th - on moodle**\n",
    "\n",
    "    "
   ]
  },
  {
   "cell_type": "code",
   "execution_count": 55,
   "metadata": {},
   "outputs": [
    {
     "data": {
      "text/plain": [
       "[('Trevor Sargent G.P. ', 261376.0),\n",
       " ('Sean Ryan Lab ', 223554.0),\n",
       " ('Jim Glennon F.F. ', 199348.0),\n",
       " ('Michael Kennedy F.F. ', 196552.0),\n",
       " ('G.V. Wright F.F. ', 186029.0),\n",
       " ('Clare Daly S.P. ', 171961.0),\n",
       " ('Nora Owen F.G. ', 146013.0),\n",
       " ('Cathal Boland F.G. ', 87491.0),\n",
       " ('Ciaran Goulding Non-P ', 61744.0),\n",
       " ('Mick Davis S.F. ', 56420.0),\n",
       " ('Eamonn Quinn Non-P ', 24170.0),\n",
       " ('David Henry Walshe C.C. Csp ', 13841.0)]"
      ]
     },
     "execution_count": 55,
     "metadata": {},
     "output_type": "execute_result"
    }
   ],
   "source": [
    "## Bordas Rule\n",
    "\n",
    "import pandas as pd\n",
    "import numpy as np\n",
    "\n",
    "df = pd.read_csv('Irish.csv', skiprows=range(4),encoding='latin1')\n",
    "\n",
    "dfnew = df.copy()\n",
    "\n",
    "for col in df.columns[1:]:\n",
    "    dfnew[col] = df['number of voters']*df[col]\n",
    "        \n",
    "dfnew\n",
    "df['number of voters'].sum()\n",
    "\n",
    "candidates = df.columns[1:]\n",
    "sumI = [dfnew[can].sum() for can in candidates]\n",
    "\n",
    "sumI = np.array(sumI)\n",
    "\n",
    "orderid = np.argsort(sumI)[::-1]\n",
    "\n",
    "np.sort(sumI)[::-1]\n",
    "\n",
    "[(candidates[i],sumI[i]) for i in orderid]\n"
   ]
  },
  {
   "cell_type": "code",
   "execution_count": 33,
   "metadata": {},
   "outputs": [
    {
     "name": "stdout",
     "output_type": "stream",
     "text": [
      "Trevor Sargent G.P. is the Condorcet winner\n"
     ]
    }
   ],
   "source": [
    "## The Condorcet winner (if any)\n",
    "\n",
    "import pandas as pd\n",
    "import numpy as np\n",
    "\n",
    "def append_value(dict_obj, key, value):\n",
    "    if key in dict_obj:\n",
    "        if not isinstance(dict_obj[key], list):\n",
    "            dict_obj[key] = [dict_obj[key]]\n",
    "        dict_obj[key].append(value)\n",
    "    else:\n",
    "        dict_obj[key] = [value]\n",
    "\n",
    "\n",
    "df = pd.read_csv('Irish.csv', skiprows=range(4),encoding='latin1')\n",
    "dfResult = df.copy()\n",
    "df = df.drop(\"number of voters\",1)\n",
    "\n",
    "finalData = {}\n",
    "\n",
    "for i in df.columns:\n",
    "    for j in dfResult.columns[1:]:\n",
    "        if i != j:\n",
    "            totalI = 0\n",
    "            totalJ = 0\n",
    "            totalI = sum(np.where(dfResult[i] >= dfResult[j], dfResult['number of voters'], 0))\n",
    "            totalJ = sum(np.where(dfResult[i] <= dfResult[j], dfResult['number of voters'], 0))\n",
    "            if totalI > totalJ:\n",
    "                append_value(finalData, i, totalI)\n",
    "            elif totalI < totalJ:\n",
    "                append_value(finalData, j, totalJ) \n",
    "            else:\n",
    "                append_value(finalData, i, totalI)\n",
    "                append_value(finalData, j, totalJ)                \n",
    "    dfResult = dfResult.drop(i, 1)\n",
    "\n",
    "\n",
    "sorted_data = sorted(finalData, key=lambda k: len(finalData[k]), reverse=True)\n",
    "\n",
    "print(sorted_data[0] + \"is the Condorcet winner\")\n",
    "\n"
   ]
  },
  {
   "cell_type": "code",
   "execution_count": 53,
   "metadata": {},
   "outputs": [
    {
     "name": "stdout",
     "output_type": "stream",
     "text": [
      "The order of the candidates elected in Kramer Simpson's rule are:\n",
      "KS(Trevor Sargent G.P. ) -  26641.0\n",
      "KS(Sean Ryan Lab ) -  29198.0\n",
      "KS(Michael Kennedy F.F. ) -  31830.0\n",
      "KS(Jim Glennon F.F. ) -  31933.0\n",
      "KS(Clare Daly S.P. ) -  32716.0\n",
      "KS(G.V. Wright F.F. ) -  33097.0\n",
      "KS(Nora Owen F.G. ) -  34965.0\n",
      "KS(Cathal Boland F.G. ) -  39576.0\n",
      "KS(Mick Davis S.F. ) -  40403.0\n",
      "KS(Ciaran Goulding Non-P ) -  40548.0\n",
      "KS(Eamonn Quinn Non-P ) -  42519.0\n",
      "KS(David Henry Walshe C.C. Csp ) -  43148.0\n"
     ]
    }
   ],
   "source": [
    "## KS rule\n",
    "\n",
    "import pandas as pd\n",
    "import numpy as np\n",
    "\n",
    "df = pd.read_csv('Irish.csv', skiprows=range(4),encoding='latin1')\n",
    "columns = df.columns[1:]\n",
    "\n",
    "finalData = {}\n",
    "\n",
    "for i in range(len(columns)):\n",
    "    finalScore = 0\n",
    "    for j in range(len(columns)):\n",
    "        if i != j:\n",
    "            totalJ = 0\n",
    "            # compare the ranks of each pairs and sum up the voters \n",
    "            totalJ = sum(np.where(df[columns[j]] >= df[columns[i]], df[\"number of voters\"], 0))\n",
    "            # store the highest voters             \n",
    "            if( finalScore < totalJ):\n",
    "                finalScore = totalJ\n",
    "        # decide the KS(winner) for each candidate \n",
    "        if(j == len(columns) -1) :\n",
    "            key = \"KS(\"+columns[i]+\")\"\n",
    "            finalData[key] = finalScore\n",
    "\n",
    "sort_orders = sorted(finalData.items(), key=lambda x: x[1])\n",
    "\n",
    "print(\"The order of the candidates elected in Kramer Simpson's rule are:\")\n",
    "\n",
    "for i in sort_orders:\n",
    "    print(i[0] + \" - \", i[1])"
   ]
  }
 ],
 "metadata": {
  "kernelspec": {
   "display_name": "Python 3",
   "language": "python",
   "name": "python3"
  },
  "language_info": {
   "codemirror_mode": {
    "name": "ipython",
    "version": 3
   },
   "file_extension": ".py",
   "mimetype": "text/x-python",
   "name": "python",
   "nbconvert_exporter": "python",
   "pygments_lexer": "ipython3",
   "version": "3.8.3"
  }
 },
 "nbformat": 4,
 "nbformat_minor": 4
}
